{
 "cells": [
  {
   "cell_type": "code",
   "execution_count": 7,
   "metadata": {},
   "outputs": [],
   "source": [
    "from langchain_openai import ChatOpenAI\n",
    "import pandas as pd\n",
    "import os\n",
    "\n",
    "with open('config/config.txt') as f:\n",
    "    for line in f:\n",
    "        env_data = line.split(',')\n",
    "        os.environ[env_data[0]] = env_data[1]\n",
    "\n",
    "llm = ChatOpenAI()\n",
    "\n",
    "reviews = pd.read_csv('data/review_sample.csv', index_col=0)"
   ]
  },
  {
   "cell_type": "code",
   "execution_count": 2,
   "metadata": {},
   "outputs": [
    {
     "data": {
      "text/plain": [
       "AIMessage(content='Langsmith can help with testing in the following ways:\\n\\n1. Language support: Langsmith can provide language-specific testing tools and libraries to assist with testing different programming languages.\\n\\n2. Test automation: Langsmith can help with automating testing processes, reducing manual effort and improving efficiency.\\n\\n3. Test case generation: Langsmith can assist in generating test cases based on specific requirements or code coverage criteria.\\n\\n4. Code review: Langsmith can help with code review processes, identifying potential issues and suggesting improvements to ensure code quality.\\n\\n5. Integration with testing frameworks: Langsmith can integrate with popular testing frameworks to streamline the testing process and provide additional testing capabilities.\\n\\n6. Performance testing: Langsmith can assist with performance testing, helping to identify bottlenecks and optimize code for better performance.\\n\\nOverall, Langsmith can provide a range of tools and services to support testing efforts and improve the quality and reliability of software products.', response_metadata={'token_usage': {'completion_tokens': 182, 'prompt_tokens': 15, 'total_tokens': 197}, 'model_name': 'gpt-3.5-turbo', 'system_fingerprint': 'fp_b28b39ffa8', 'finish_reason': 'stop', 'logprobs': None}, id='run-1f723abd-465b-4af1-8125-76710e18c177-0')"
      ]
     },
     "execution_count": 2,
     "metadata": {},
     "output_type": "execute_result"
    }
   ],
   "source": [
    "llm.invoke(\"how can langsmith help with testing?\")"
   ]
  },
  {
   "cell_type": "code",
   "execution_count": null,
   "metadata": {},
   "outputs": [],
   "source": []
  },
  {
   "cell_type": "code",
   "execution_count": null,
   "metadata": {},
   "outputs": [],
   "source": []
  }
 ],
 "metadata": {
  "kernelspec": {
   "display_name": "tl-env",
   "language": "python",
   "name": "python3"
  },
  "language_info": {
   "codemirror_mode": {
    "name": "ipython",
    "version": 3
   },
   "file_extension": ".py",
   "mimetype": "text/x-python",
   "name": "python",
   "nbconvert_exporter": "python",
   "pygments_lexer": "ipython3",
   "version": "3.10.12"
  }
 },
 "nbformat": 4,
 "nbformat_minor": 2
}
