{
 "cells": [
  {
   "cell_type": "code",
   "execution_count": 122,
   "metadata": {},
   "outputs": [],
   "source": [
    "from langchain_openai import ChatOpenAI\n",
    "import pandas as pd\n",
    "import os\n",
    "from typing import List\n",
    "from enum import Enum\n",
    "\n",
    "from langchain.prompts import PromptTemplate\n",
    "from langchain_core.output_parsers import JsonOutputParser\n",
    "from langchain_core.pydantic_v1 import BaseModel, Field\n",
    "from langchain.output_parsers.enum import EnumOutputParser\n",
    "\n",
    "\n",
    "with open('config/config.txt') as f:\n",
    "    for line in f:\n",
    "        env_data = line.split(',')\n",
    "        os.environ[env_data[0]] = env_data[1]\n",
    "\n",
    "llm = ChatOpenAI(model_name='gpt-3.5-turbo',temperature=0.7)\n",
    "\n",
    "reviews = pd.read_csv('data/review_sample.csv', index_col=0)"
   ]
  },
  {
   "cell_type": "code",
   "execution_count": 126,
   "metadata": {},
   "outputs": [],
   "source": [
    "def extract_significant_ideas(text):\n",
    "    # Define the prompt to instruct the model to extract significant ideas\n",
    "    prompt = f\"Please summarize the following text by extracting the significant ideas as short sentences. SEPARATE EACH SENTENCE WITH COMMAS ONLY:\\n\\n{text}\"\n",
    "    \n",
    "    # Use LangChain's llm to call the OpenAI API\n",
    "    response = llm.invoke(prompt)\n",
    "\n",
    "    return response\n",
    "\n",
    "ideas = {}\n",
    "\n",
    "# Extract significant ideas\n",
    "for i in range(5):\n",
    "    significant_ideas = extract_significant_ideas(reviews.text[i])\n",
    "    ideas[reviews.review_id[i]] = significant_ideas.content.split(',')"
   ]
  },
  {
   "cell_type": "code",
   "execution_count": 127,
   "metadata": {},
   "outputs": [
    {
     "data": {
      "text/plain": [
       "{'QEkyAdsrVo7tEsANDN7O9g': ['Missed Marvin',\n",
       "  ' enjoyed the chocolate shake',\n",
       "  ' went later in the day than usual',\n",
       "  ' best time to go is when they open',\n",
       "  ' Marvin is entertaining.'],\n",
       " 'kIViMGM4JTHHozAE1r9boA': [\"Best breakfast I've had in a very long time\",\n",
       "  ' very disappointed with breakfast',\n",
       "  \" maybe it's just me\",\n",
       "  \" Camellia's was amazing\",\n",
       "  ' had the omelet at the bottom of the menu',\n",
       "  ' so good',\n",
       "  ' brother had the Mexican which was tasty',\n",
       "  ' had a pecan omelet that is to die for',\n",
       "  ' thinner than most',\n",
       "  ' enjoyed it',\n",
       "  ' get your order in asap',\n",
       "  ' service is personable and awesome.'],\n",
       " 'LpHt30LaQHAtBs-j_EYUUw': ['Visited new French Quarter location',\n",
       "  ' enjoyed it as much as Carrollton location',\n",
       "  ' Manhattan Omelette is a must-try',\n",
       "  ' delicious.'],\n",
       " 'WqCjrz_fV-n6y_nDxme2lA': ['One of my favorite places',\n",
       "  ' great food',\n",
       "  ' high energy service from Marvin',\n",
       "  ' best breakfast place in the world',\n",
       "  ' worth the wait',\n",
       "  ' New Orleans landmark',\n",
       "  ' better than advertised',\n",
       "  ' huge smiley face.'],\n",
       " 'J8kc5pwyAtpl1Wm91RopYQ': ['Total disappointment',\n",
       "  ' filthy',\n",
       "  ' rundown venue',\n",
       "  ' stained napkins and rusted equipment',\n",
       "  ' staff outfits dirty and disgusting',\n",
       "  ' loud obnoxious noises among staff',\n",
       "  ' greasy food with poor quality ingredients',\n",
       "  ' terrible meal experience',\n",
       "  \" worse than Dot's diner or Waffle House\",\n",
       "  ' needs renovation and new staff.']}"
      ]
     },
     "execution_count": 127,
     "metadata": {},
     "output_type": "execute_result"
    }
   ],
   "source": [
    "ideas"
   ]
  },
  {
   "cell_type": "code",
   "execution_count": 158,
   "metadata": {},
   "outputs": [
    {
     "name": "stdout",
     "output_type": "stream",
     "text": [
      "Tasty, satisfying, enjoyable\n"
     ]
    }
   ],
   "source": [
    "class Boolean(Enum):\n",
    "    TRUE = \"TRUE\"\n",
    "    FALSE = \"FALSE\"\n",
    "\n",
    "def are_related(idea_0, idea_1):\n",
    "    parser = EnumOutputParser(enum=Boolean)\n",
    "    prompt = PromptTemplate.from_template(\n",
    "        \"\"\"\n",
    "        Please look at the following two ideas and decide whether they express the same or a very similar thing. Keep in mind that both ideas are related to a specific restauraunt: \n",
    "        \n",
    "        Idea 1: {idea_0}\n",
    "        \n",
    "        Idea 2: {idea_1}\n",
    "\n",
    "        Instructions: {instructions}\n",
    "        \"\"\"\n",
    "    ).partial(instructions=parser.get_format_instructions())\n",
    "    chain = prompt | llm | parser\n",
    "    response = chain.invoke({\"idea_0\": idea_0, \"idea_1\": idea_1})\n",
    "    return response.value == 'TRUE'\n",
    "\n",
    "def merge_ideas(idea_0, idea_1):\n",
    "    prompt = f'Given the following two related ideas come up with a few words to summarize them: \\n\\nIdea 1: {idea_0}\\n\\nIdea 2: {idea_1}'\n",
    "    return llm.invoke(prompt).content\n",
    "\n",
    "\n",
    "a = ideas['kIViMGM4JTHHozAE1r9boA'][5]\n",
    "b = ideas['LpHt30LaQHAtBs-j_EYUUw'][3]\n",
    "\n",
    "\n",
    "if are_related(a, b):\n",
    "    merged = merge_ideas(a, b)\n",
    "    print(merged)    "
   ]
  },
  {
   "cell_type": "code",
   "execution_count": 157,
   "metadata": {},
   "outputs": [
    {
     "data": {
      "text/plain": [
       "True"
      ]
     },
     "execution_count": 157,
     "metadata": {},
     "output_type": "execute_result"
    }
   ],
   "source": [
    "r"
   ]
  },
  {
   "cell_type": "code",
   "execution_count": 160,
   "metadata": {},
   "outputs": [
    {
     "data": {
      "text/plain": [
       "'best breakfast ive had in a very long time. ive been very disappointed with breakfast, maybe its just me. thats why cammellias was so amazing i had the omelet on the bottom of the menu maybe camellia, chef  or something. so good! my brother had the mexican which was also very tasty. then we had a pecan omelet and that my friends is to die for. its thinner than most which i really enjoyed, get you order in asap they get busy. the service however is very personable and awesome.'"
      ]
     },
     "execution_count": 160,
     "metadata": {},
     "output_type": "execute_result"
    }
   ],
   "source": [
    "reviews[reviews.review_id == 'kIViMGM4JTHHozAE1r9boA'].text[1]"
   ]
  },
  {
   "cell_type": "code",
   "execution_count": 161,
   "metadata": {},
   "outputs": [
    {
     "data": {
      "text/plain": [
       "[\"Best breakfast I've had in a very long time\",\n",
       " ' very disappointed with breakfast',\n",
       " \" maybe it's just me\",\n",
       " \" Camellia's was amazing\",\n",
       " ' had the omelet at the bottom of the menu',\n",
       " ' so good',\n",
       " ' brother had the Mexican which was tasty',\n",
       " ' had a pecan omelet that is to die for',\n",
       " ' thinner than most',\n",
       " ' enjoyed it',\n",
       " ' get your order in asap',\n",
       " ' service is personable and awesome.']"
      ]
     },
     "execution_count": 161,
     "metadata": {},
     "output_type": "execute_result"
    }
   ],
   "source": [
    "ideas['kIViMGM4JTHHozAE1r9boA']"
   ]
  },
  {
   "cell_type": "code",
   "execution_count": 183,
   "metadata": {},
   "outputs": [
    {
     "data": {
      "text/plain": [
       "array([[ 8,  1],\n",
       "       [ 3, -7]])"
      ]
     },
     "execution_count": 183,
     "metadata": {},
     "output_type": "execute_result"
    }
   ],
   "source": [
    "import numpy as np \n",
    "\n",
    "u_1 = np.array([8, 3]) \n",
    "u_2 = np.array([1, -7]) \n",
    "\n",
    "U = np.array([u_1, u_2]).T\n",
    "\n",
    "U"
   ]
  },
  {
   "cell_type": "code",
   "execution_count": 181,
   "metadata": {},
   "outputs": [
    {
     "data": {
      "text/plain": [
       "array([37, 36])"
      ]
     },
     "execution_count": 181,
     "metadata": {},
     "output_type": "execute_result"
    }
   ],
   "source": [
    "U @ [5, -3]"
   ]
  },
  {
   "cell_type": "code",
   "execution_count": null,
   "metadata": {},
   "outputs": [],
   "source": []
  }
 ],
 "metadata": {
  "kernelspec": {
   "display_name": "tl-env",
   "language": "python",
   "name": "python3"
  },
  "language_info": {
   "codemirror_mode": {
    "name": "ipython",
    "version": 3
   },
   "file_extension": ".py",
   "mimetype": "text/x-python",
   "name": "python",
   "nbconvert_exporter": "python",
   "pygments_lexer": "ipython3",
   "version": "3.10.12"
  }
 },
 "nbformat": 4,
 "nbformat_minor": 2
}
